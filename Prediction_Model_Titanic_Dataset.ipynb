{
 "cells": [
  {
   "cell_type": "code",
   "execution_count": 1,
   "id": "b81d77fd",
   "metadata": {},
   "outputs": [],
   "source": [
    "import pandas as pd\n",
    "from sklearn.model_selection import train_test_split\n",
    "from sklearn.preprocessing import LabelEncoder, StandardScaler, OneHotEncoder \n",
    "from sklearn.impute import SimpleImputer\n",
    "from sklearn.linear_model import LogisticRegression\n",
    "from sklearn.ensemble import RandomForestClassifier\n",
    "from sklearn.metrics import accuracy_score, confusion_matrix, classification_report\n",
    "import matplotlib.pyplot as plt\n",
    "import seaborn as sns\n",
    "import warnings"
   ]
  },
  {
   "cell_type": "code",
   "execution_count": 2,
   "id": "adf27640",
   "metadata": {},
   "outputs": [],
   "source": [
    "# Suppress warnings for cleaner output\n",
    "warnings.filterwarnings('ignore')"
   ]
  },
  {
   "cell_type": "code",
   "execution_count": 3,
   "id": "b9e4dc4f",
   "metadata": {},
   "outputs": [
    {
     "data": {
      "text/html": [
       "<div>\n",
       "<style scoped>\n",
       "    .dataframe tbody tr th:only-of-type {\n",
       "        vertical-align: middle;\n",
       "    }\n",
       "\n",
       "    .dataframe tbody tr th {\n",
       "        vertical-align: top;\n",
       "    }\n",
       "\n",
       "    .dataframe thead th {\n",
       "        text-align: right;\n",
       "    }\n",
       "</style>\n",
       "<table border=\"1\" class=\"dataframe\">\n",
       "  <thead>\n",
       "    <tr style=\"text-align: right;\">\n",
       "      <th></th>\n",
       "      <th>PassengerId</th>\n",
       "      <th>Survived</th>\n",
       "      <th>Pclass</th>\n",
       "      <th>Name</th>\n",
       "      <th>Sex</th>\n",
       "      <th>Age</th>\n",
       "      <th>SibSp</th>\n",
       "      <th>Parch</th>\n",
       "      <th>Ticket</th>\n",
       "      <th>Fare</th>\n",
       "      <th>Cabin</th>\n",
       "      <th>Embarked</th>\n",
       "    </tr>\n",
       "  </thead>\n",
       "  <tbody>\n",
       "    <tr>\n",
       "      <th>0</th>\n",
       "      <td>892</td>\n",
       "      <td>0</td>\n",
       "      <td>3</td>\n",
       "      <td>Kelly, Mr. James</td>\n",
       "      <td>male</td>\n",
       "      <td>34.5</td>\n",
       "      <td>0</td>\n",
       "      <td>0</td>\n",
       "      <td>330911</td>\n",
       "      <td>7.8292</td>\n",
       "      <td>NaN</td>\n",
       "      <td>Q</td>\n",
       "    </tr>\n",
       "    <tr>\n",
       "      <th>1</th>\n",
       "      <td>893</td>\n",
       "      <td>1</td>\n",
       "      <td>3</td>\n",
       "      <td>Wilkes, Mrs. James (Ellen Needs)</td>\n",
       "      <td>female</td>\n",
       "      <td>47.0</td>\n",
       "      <td>1</td>\n",
       "      <td>0</td>\n",
       "      <td>363272</td>\n",
       "      <td>7.0000</td>\n",
       "      <td>NaN</td>\n",
       "      <td>S</td>\n",
       "    </tr>\n",
       "    <tr>\n",
       "      <th>2</th>\n",
       "      <td>894</td>\n",
       "      <td>0</td>\n",
       "      <td>2</td>\n",
       "      <td>Myles, Mr. Thomas Francis</td>\n",
       "      <td>male</td>\n",
       "      <td>62.0</td>\n",
       "      <td>0</td>\n",
       "      <td>0</td>\n",
       "      <td>240276</td>\n",
       "      <td>9.6875</td>\n",
       "      <td>NaN</td>\n",
       "      <td>Q</td>\n",
       "    </tr>\n",
       "    <tr>\n",
       "      <th>3</th>\n",
       "      <td>895</td>\n",
       "      <td>0</td>\n",
       "      <td>3</td>\n",
       "      <td>Wirz, Mr. Albert</td>\n",
       "      <td>male</td>\n",
       "      <td>27.0</td>\n",
       "      <td>0</td>\n",
       "      <td>0</td>\n",
       "      <td>315154</td>\n",
       "      <td>8.6625</td>\n",
       "      <td>NaN</td>\n",
       "      <td>S</td>\n",
       "    </tr>\n",
       "    <tr>\n",
       "      <th>4</th>\n",
       "      <td>896</td>\n",
       "      <td>1</td>\n",
       "      <td>3</td>\n",
       "      <td>Hirvonen, Mrs. Alexander (Helga E Lindqvist)</td>\n",
       "      <td>female</td>\n",
       "      <td>22.0</td>\n",
       "      <td>1</td>\n",
       "      <td>1</td>\n",
       "      <td>3101298</td>\n",
       "      <td>12.2875</td>\n",
       "      <td>NaN</td>\n",
       "      <td>S</td>\n",
       "    </tr>\n",
       "  </tbody>\n",
       "</table>\n",
       "</div>"
      ],
      "text/plain": [
       "   PassengerId  Survived  Pclass  \\\n",
       "0          892         0       3   \n",
       "1          893         1       3   \n",
       "2          894         0       2   \n",
       "3          895         0       3   \n",
       "4          896         1       3   \n",
       "\n",
       "                                           Name     Sex   Age  SibSp  Parch  \\\n",
       "0                              Kelly, Mr. James    male  34.5      0      0   \n",
       "1              Wilkes, Mrs. James (Ellen Needs)  female  47.0      1      0   \n",
       "2                     Myles, Mr. Thomas Francis    male  62.0      0      0   \n",
       "3                              Wirz, Mr. Albert    male  27.0      0      0   \n",
       "4  Hirvonen, Mrs. Alexander (Helga E Lindqvist)  female  22.0      1      1   \n",
       "\n",
       "    Ticket     Fare Cabin Embarked  \n",
       "0   330911   7.8292   NaN        Q  \n",
       "1   363272   7.0000   NaN        S  \n",
       "2   240276   9.6875   NaN        Q  \n",
       "3   315154   8.6625   NaN        S  \n",
       "4  3101298  12.2875   NaN        S  "
      ]
     },
     "execution_count": 3,
     "metadata": {},
     "output_type": "execute_result"
    }
   ],
   "source": [
    "#Reading the file\n",
    "df = pd.read_csv (r\"tested.csv\")\n",
    "df.head()"
   ]
  },
  {
   "cell_type": "code",
   "execution_count": 4,
   "id": "a5704197",
   "metadata": {},
   "outputs": [
    {
     "name": "stdout",
     "output_type": "stream",
     "text": [
      "<class 'pandas.core.frame.DataFrame'>\n",
      "RangeIndex: 418 entries, 0 to 417\n",
      "Data columns (total 12 columns):\n",
      " #   Column       Non-Null Count  Dtype  \n",
      "---  ------       --------------  -----  \n",
      " 0   PassengerId  418 non-null    int64  \n",
      " 1   Survived     418 non-null    int64  \n",
      " 2   Pclass       418 non-null    int64  \n",
      " 3   Name         418 non-null    object \n",
      " 4   Sex          418 non-null    object \n",
      " 5   Age          332 non-null    float64\n",
      " 6   SibSp        418 non-null    int64  \n",
      " 7   Parch        418 non-null    int64  \n",
      " 8   Ticket       418 non-null    object \n",
      " 9   Fare         417 non-null    float64\n",
      " 10  Cabin        91 non-null     object \n",
      " 11  Embarked     418 non-null    object \n",
      "dtypes: float64(2), int64(5), object(5)\n",
      "memory usage: 39.3+ KB\n"
     ]
    }
   ],
   "source": [
    "df.info()"
   ]
  },
  {
   "cell_type": "code",
   "execution_count": 5,
   "id": "fcc766d9",
   "metadata": {},
   "outputs": [
    {
     "data": {
      "text/html": [
       "<div>\n",
       "<style scoped>\n",
       "    .dataframe tbody tr th:only-of-type {\n",
       "        vertical-align: middle;\n",
       "    }\n",
       "\n",
       "    .dataframe tbody tr th {\n",
       "        vertical-align: top;\n",
       "    }\n",
       "\n",
       "    .dataframe thead th {\n",
       "        text-align: right;\n",
       "    }\n",
       "</style>\n",
       "<table border=\"1\" class=\"dataframe\">\n",
       "  <thead>\n",
       "    <tr style=\"text-align: right;\">\n",
       "      <th></th>\n",
       "      <th>Non-Null Count</th>\n",
       "      <th>Missing Values</th>\n",
       "      <th>Missing %</th>\n",
       "      <th>Dtype</th>\n",
       "    </tr>\n",
       "    <tr>\n",
       "      <th>Column</th>\n",
       "      <th></th>\n",
       "      <th></th>\n",
       "      <th></th>\n",
       "      <th></th>\n",
       "    </tr>\n",
       "  </thead>\n",
       "  <tbody>\n",
       "    <tr>\n",
       "      <th>PassengerId</th>\n",
       "      <td>418</td>\n",
       "      <td>0</td>\n",
       "      <td>0.0</td>\n",
       "      <td>int64</td>\n",
       "    </tr>\n",
       "    <tr>\n",
       "      <th>Survived</th>\n",
       "      <td>418</td>\n",
       "      <td>0</td>\n",
       "      <td>0.0</td>\n",
       "      <td>int64</td>\n",
       "    </tr>\n",
       "    <tr>\n",
       "      <th>Pclass</th>\n",
       "      <td>418</td>\n",
       "      <td>0</td>\n",
       "      <td>0.0</td>\n",
       "      <td>int64</td>\n",
       "    </tr>\n",
       "    <tr>\n",
       "      <th>Name</th>\n",
       "      <td>418</td>\n",
       "      <td>0</td>\n",
       "      <td>0.0</td>\n",
       "      <td>object</td>\n",
       "    </tr>\n",
       "    <tr>\n",
       "      <th>Sex</th>\n",
       "      <td>418</td>\n",
       "      <td>0</td>\n",
       "      <td>0.0</td>\n",
       "      <td>object</td>\n",
       "    </tr>\n",
       "    <tr>\n",
       "      <th>Age</th>\n",
       "      <td>332</td>\n",
       "      <td>86</td>\n",
       "      <td>20.6</td>\n",
       "      <td>float64</td>\n",
       "    </tr>\n",
       "    <tr>\n",
       "      <th>SibSp</th>\n",
       "      <td>418</td>\n",
       "      <td>0</td>\n",
       "      <td>0.0</td>\n",
       "      <td>int64</td>\n",
       "    </tr>\n",
       "    <tr>\n",
       "      <th>Parch</th>\n",
       "      <td>418</td>\n",
       "      <td>0</td>\n",
       "      <td>0.0</td>\n",
       "      <td>int64</td>\n",
       "    </tr>\n",
       "    <tr>\n",
       "      <th>Ticket</th>\n",
       "      <td>418</td>\n",
       "      <td>0</td>\n",
       "      <td>0.0</td>\n",
       "      <td>object</td>\n",
       "    </tr>\n",
       "    <tr>\n",
       "      <th>Fare</th>\n",
       "      <td>417</td>\n",
       "      <td>1</td>\n",
       "      <td>0.2</td>\n",
       "      <td>float64</td>\n",
       "    </tr>\n",
       "    <tr>\n",
       "      <th>Cabin</th>\n",
       "      <td>91</td>\n",
       "      <td>327</td>\n",
       "      <td>78.2</td>\n",
       "      <td>object</td>\n",
       "    </tr>\n",
       "    <tr>\n",
       "      <th>Embarked</th>\n",
       "      <td>418</td>\n",
       "      <td>0</td>\n",
       "      <td>0.0</td>\n",
       "      <td>object</td>\n",
       "    </tr>\n",
       "  </tbody>\n",
       "</table>\n",
       "</div>"
      ],
      "text/plain": [
       "             Non-Null Count  Missing Values  Missing %    Dtype\n",
       "Column                                                         \n",
       "PassengerId             418               0        0.0    int64\n",
       "Survived                418               0        0.0    int64\n",
       "Pclass                  418               0        0.0    int64\n",
       "Name                    418               0        0.0   object\n",
       "Sex                     418               0        0.0   object\n",
       "Age                     332              86       20.6  float64\n",
       "SibSp                   418               0        0.0    int64\n",
       "Parch                   418               0        0.0    int64\n",
       "Ticket                  418               0        0.0   object\n",
       "Fare                    417               1        0.2  float64\n",
       "Cabin                    91             327       78.2   object\n",
       "Embarked                418               0        0.0   object"
      ]
     },
     "execution_count": 5,
     "metadata": {},
     "output_type": "execute_result"
    }
   ],
   "source": [
    "# Missing values for each column\n",
    "missing = df.isnull().sum()\n",
    "non_null = df.notnull().sum()\n",
    "total = len(df)\n",
    "\n",
    "# Build summary DataFrame\n",
    "summary = pd.DataFrame({\n",
    "    \"Non-Null Count\": non_null,\n",
    "    \"Missing Values\": missing,\n",
    "    \"Missing %\": (missing / total * 100).round(1),\n",
    "    \"Dtype\": df.dtypes\n",
    "})\n",
    "\n",
    "# Rename index to 'Column'\n",
    "summary.index.name = \"Column\"\n",
    "\n",
    "# Display\n",
    "summary"
   ]
  },
  {
   "cell_type": "code",
   "execution_count": 6,
   "id": "7e72502e",
   "metadata": {},
   "outputs": [],
   "source": [
    "# Make a copy to avoid Error (SettingWithCopyWarning) if modifying df later\n",
    "df_processed = df.copy()"
   ]
  },
  {
   "cell_type": "code",
   "execution_count": 7,
   "id": "7897ec67",
   "metadata": {},
   "outputs": [
    {
     "data": {
      "text/html": [
       "<div>\n",
       "<style scoped>\n",
       "    .dataframe tbody tr th:only-of-type {\n",
       "        vertical-align: middle;\n",
       "    }\n",
       "\n",
       "    .dataframe tbody tr th {\n",
       "        vertical-align: top;\n",
       "    }\n",
       "\n",
       "    .dataframe thead th {\n",
       "        text-align: right;\n",
       "    }\n",
       "</style>\n",
       "<table border=\"1\" class=\"dataframe\">\n",
       "  <thead>\n",
       "    <tr style=\"text-align: right;\">\n",
       "      <th>Column</th>\n",
       "      <th>PassengerId</th>\n",
       "      <th>Survived</th>\n",
       "      <th>Pclass</th>\n",
       "      <th>Age</th>\n",
       "      <th>SibSp</th>\n",
       "      <th>Parch</th>\n",
       "      <th>Fare</th>\n",
       "    </tr>\n",
       "  </thead>\n",
       "  <tbody>\n",
       "    <tr>\n",
       "      <th>count</th>\n",
       "      <td>418.000000</td>\n",
       "      <td>418.000000</td>\n",
       "      <td>418.000000</td>\n",
       "      <td>332.000000</td>\n",
       "      <td>418.000000</td>\n",
       "      <td>418.000000</td>\n",
       "      <td>417.000000</td>\n",
       "    </tr>\n",
       "    <tr>\n",
       "      <th>mean</th>\n",
       "      <td>1100.500000</td>\n",
       "      <td>0.363636</td>\n",
       "      <td>2.265550</td>\n",
       "      <td>30.272590</td>\n",
       "      <td>0.447368</td>\n",
       "      <td>0.392344</td>\n",
       "      <td>35.627188</td>\n",
       "    </tr>\n",
       "    <tr>\n",
       "      <th>std</th>\n",
       "      <td>120.810458</td>\n",
       "      <td>0.481622</td>\n",
       "      <td>0.841838</td>\n",
       "      <td>14.181209</td>\n",
       "      <td>0.896760</td>\n",
       "      <td>0.981429</td>\n",
       "      <td>55.907576</td>\n",
       "    </tr>\n",
       "    <tr>\n",
       "      <th>min</th>\n",
       "      <td>892.000000</td>\n",
       "      <td>0.000000</td>\n",
       "      <td>1.000000</td>\n",
       "      <td>0.170000</td>\n",
       "      <td>0.000000</td>\n",
       "      <td>0.000000</td>\n",
       "      <td>0.000000</td>\n",
       "    </tr>\n",
       "    <tr>\n",
       "      <th>25%</th>\n",
       "      <td>996.250000</td>\n",
       "      <td>0.000000</td>\n",
       "      <td>1.000000</td>\n",
       "      <td>21.000000</td>\n",
       "      <td>0.000000</td>\n",
       "      <td>0.000000</td>\n",
       "      <td>7.895800</td>\n",
       "    </tr>\n",
       "    <tr>\n",
       "      <th>50%</th>\n",
       "      <td>1100.500000</td>\n",
       "      <td>0.000000</td>\n",
       "      <td>3.000000</td>\n",
       "      <td>27.000000</td>\n",
       "      <td>0.000000</td>\n",
       "      <td>0.000000</td>\n",
       "      <td>14.454200</td>\n",
       "    </tr>\n",
       "    <tr>\n",
       "      <th>75%</th>\n",
       "      <td>1204.750000</td>\n",
       "      <td>1.000000</td>\n",
       "      <td>3.000000</td>\n",
       "      <td>39.000000</td>\n",
       "      <td>1.000000</td>\n",
       "      <td>0.000000</td>\n",
       "      <td>31.500000</td>\n",
       "    </tr>\n",
       "    <tr>\n",
       "      <th>max</th>\n",
       "      <td>1309.000000</td>\n",
       "      <td>1.000000</td>\n",
       "      <td>3.000000</td>\n",
       "      <td>76.000000</td>\n",
       "      <td>8.000000</td>\n",
       "      <td>9.000000</td>\n",
       "      <td>512.329200</td>\n",
       "    </tr>\n",
       "  </tbody>\n",
       "</table>\n",
       "</div>"
      ],
      "text/plain": [
       "Column  PassengerId    Survived      Pclass         Age       SibSp  \\\n",
       "count    418.000000  418.000000  418.000000  332.000000  418.000000   \n",
       "mean    1100.500000    0.363636    2.265550   30.272590    0.447368   \n",
       "std      120.810458    0.481622    0.841838   14.181209    0.896760   \n",
       "min      892.000000    0.000000    1.000000    0.170000    0.000000   \n",
       "25%      996.250000    0.000000    1.000000   21.000000    0.000000   \n",
       "50%     1100.500000    0.000000    3.000000   27.000000    0.000000   \n",
       "75%     1204.750000    1.000000    3.000000   39.000000    1.000000   \n",
       "max     1309.000000    1.000000    3.000000   76.000000    8.000000   \n",
       "\n",
       "Column       Parch        Fare  \n",
       "count   418.000000  417.000000  \n",
       "mean      0.392344   35.627188  \n",
       "std       0.981429   55.907576  \n",
       "min       0.000000    0.000000  \n",
       "25%       0.000000    7.895800  \n",
       "50%       0.000000   14.454200  \n",
       "75%       0.000000   31.500000  \n",
       "max       9.000000  512.329200  "
      ]
     },
     "execution_count": 7,
     "metadata": {},
     "output_type": "execute_result"
    }
   ],
   "source": [
    "df_processed.describe()"
   ]
  },
  {
   "cell_type": "code",
   "execution_count": 8,
   "id": "2734c31c",
   "metadata": {},
   "outputs": [],
   "source": [
    "#Impute the missing values with median - Impute used due to its robustness\n",
    "imputer_age = SimpleImputer(strategy='median')\n",
    "df_processed['Age'] = imputer_age.fit_transform(df_processed[['Age']])\n",
    "imputer_fare = SimpleImputer(strategy='median')\n",
    "df_processed['Fare'] = imputer_fare.fit_transform(df_processed[['Fare']])"
   ]
  },
  {
   "cell_type": "code",
   "execution_count": 9,
   "id": "0beab206",
   "metadata": {},
   "outputs": [],
   "source": [
    "#Dropping the column Cabin that has values less than half\n",
    "df_processed = df_processed.drop('Cabin', axis=1)"
   ]
  },
  {
   "cell_type": "code",
   "execution_count": 10,
   "id": "fe2afb78",
   "metadata": {},
   "outputs": [
    {
     "name": "stdout",
     "output_type": "stream",
     "text": [
      "<class 'pandas.core.frame.DataFrame'>\n",
      "RangeIndex: 418 entries, 0 to 417\n",
      "Data columns (total 11 columns):\n",
      " #   Column       Non-Null Count  Dtype  \n",
      "---  ------       --------------  -----  \n",
      " 0   PassengerId  418 non-null    int64  \n",
      " 1   Survived     418 non-null    int64  \n",
      " 2   Pclass       418 non-null    int64  \n",
      " 3   Name         418 non-null    object \n",
      " 4   Sex          418 non-null    object \n",
      " 5   Age          418 non-null    float64\n",
      " 6   SibSp        418 non-null    int64  \n",
      " 7   Parch        418 non-null    int64  \n",
      " 8   Ticket       418 non-null    object \n",
      " 9   Fare         418 non-null    float64\n",
      " 10  Embarked     418 non-null    object \n",
      "dtypes: float64(2), int64(5), object(4)\n",
      "memory usage: 36.1+ KB\n"
     ]
    }
   ],
   "source": [
    "df_processed.info()"
   ]
  },
  {
   "cell_type": "code",
   "execution_count": 11,
   "id": "46ece755",
   "metadata": {},
   "outputs": [],
   "source": [
    "# Drop irrelevant columns: PassengerId, Name and Ticket\n",
    "df_processed = df_processed.drop(['PassengerId', 'Name', 'Ticket'], axis=1)"
   ]
  },
  {
   "cell_type": "code",
   "execution_count": 12,
   "id": "6284dd68",
   "metadata": {},
   "outputs": [
    {
     "name": "stdout",
     "output_type": "stream",
     "text": [
      "<class 'pandas.core.frame.DataFrame'>\n",
      "RangeIndex: 418 entries, 0 to 417\n",
      "Data columns (total 8 columns):\n",
      " #   Column    Non-Null Count  Dtype  \n",
      "---  ------    --------------  -----  \n",
      " 0   Survived  418 non-null    int64  \n",
      " 1   Pclass    418 non-null    int64  \n",
      " 2   Sex       418 non-null    object \n",
      " 3   Age       418 non-null    float64\n",
      " 4   SibSp     418 non-null    int64  \n",
      " 5   Parch     418 non-null    int64  \n",
      " 6   Fare      418 non-null    float64\n",
      " 7   Embarked  418 non-null    object \n",
      "dtypes: float64(2), int64(4), object(2)\n",
      "memory usage: 26.3+ KB\n"
     ]
    }
   ],
   "source": [
    "# Remaining Columns\n",
    "df_processed.info()"
   ]
  },
  {
   "cell_type": "code",
   "execution_count": 13,
   "id": "68fbb16e",
   "metadata": {},
   "outputs": [
    {
     "name": "stdout",
     "output_type": "stream",
     "text": [
      "Unique Embarked values before OneHotEncoding: ['Q' 'S' 'C']\n",
      "DataFrame after preprocessing. First 5 rows:\n",
      "   Survived  Pclass  Sex   Age  SibSp  Parch     Fare  Embarked_C  Embarked_Q  \\\n",
      "0         0       3    1  34.5      0      0   7.8292         0.0         1.0   \n",
      "1         1       3    0  47.0      1      0   7.0000         0.0         0.0   \n",
      "2         0       2    1  62.0      0      0   9.6875         0.0         1.0   \n",
      "3         0       3    1  27.0      0      0   8.6625         0.0         0.0   \n",
      "4         1       3    0  22.0      1      1  12.2875         0.0         0.0   \n",
      "\n",
      "   Embarked_S  \n",
      "0         0.0  \n",
      "1         1.0  \n",
      "2         0.0  \n",
      "3         1.0  \n",
      "4         1.0  \n",
      "\n",
      "\n",
      "DataFrame Info after preprocessing:\n",
      "<class 'pandas.core.frame.DataFrame'>\n",
      "RangeIndex: 418 entries, 0 to 417\n",
      "Data columns (total 10 columns):\n",
      " #   Column      Non-Null Count  Dtype  \n",
      "---  ------      --------------  -----  \n",
      " 0   Survived    418 non-null    int64  \n",
      " 1   Pclass      418 non-null    int64  \n",
      " 2   Sex         418 non-null    int64  \n",
      " 3   Age         418 non-null    float64\n",
      " 4   SibSp       418 non-null    int64  \n",
      " 5   Parch       418 non-null    int64  \n",
      " 6   Fare        418 non-null    float64\n",
      " 7   Embarked_C  418 non-null    float64\n",
      " 8   Embarked_Q  418 non-null    float64\n",
      " 9   Embarked_S  418 non-null    float64\n",
      "dtypes: float64(5), int64(5)\n",
      "memory usage: 32.8 KB\n",
      "\n",
      "\n"
     ]
    }
   ],
   "source": [
    "# Encoding Categorical Features\n",
    "# 'Sex': Use LabelEncoder (binary feature)\n",
    "le = LabelEncoder()\n",
    "df_processed['Sex'] = le.fit_transform(df_processed['Sex']) # male=1, female=0. Or male=0, female=1 depending on internal sorting.\n",
    "\n",
    "# 'Embarked': Use OneHotEncoder\n",
    "print(\"Unique Embarked values before OneHotEncoding:\", df_processed['Embarked'].unique())\n",
    "ohe = OneHotEncoder(handle_unknown='ignore', sparse_output=False)\n",
    "embarked_encoded = ohe.fit_transform(df_processed[['Embarked']])\n",
    "embarked_df = pd.DataFrame(embarked_encoded, columns=ohe.get_feature_names_out(['Embarked']), index=df_processed.index)\n",
    "df_processed = pd.concat([df_processed.drop('Embarked', axis=1), embarked_df], axis=1)\n",
    "\n",
    "print(\"DataFrame after preprocessing. First 5 rows:\")\n",
    "print(df_processed.head())\n",
    "print(\"\\n\")\n",
    "print(\"DataFrame Info after preprocessing:\")\n",
    "df_processed.info()\n",
    "print(\"\\n\")"
   ]
  },
  {
   "cell_type": "code",
   "execution_count": 14,
   "id": "d8e016cf",
   "metadata": {},
   "outputs": [
    {
     "name": "stdout",
     "output_type": "stream",
     "text": [
      "Splitting Data into Training and Test Sets\n",
      "X_train shape: (334, 9)\n",
      "X_test shape: (84, 9)\n",
      "y_train shape: (334,)\n",
      "y_test shape: (84,)\n",
      "\n",
      "\n"
     ]
    }
   ],
   "source": [
    "#Splitting the data\n",
    "print(\"Splitting Data into Training and Test Sets\")\n",
    "X = df_processed.drop('Survived', axis=1) # Features\n",
    "y = df_processed['Survived']             # Target variable\n",
    "\n",
    "X_train, X_test, y_train, y_test = train_test_split(X, y, test_size=0.2, random_state=42, stratify=y)\n",
    "\n",
    "print(f\"X_train shape: {X_train.shape}\")\n",
    "print(f\"X_test shape: {X_test.shape}\")\n",
    "print(f\"y_train shape: {y_train.shape}\")\n",
    "print(f\"y_test shape: {y_test.shape}\")\n",
    "print(\"\\n\")"
   ]
  },
  {
   "cell_type": "code",
   "execution_count": 15,
   "id": "808477e2",
   "metadata": {},
   "outputs": [],
   "source": [
    "#Saving the files\n",
    "X_train.to_csv(\"X_train.csv\", index=False)\n",
    "X_test.to_csv(\"X_test.csv\", index=False)\n",
    "y_train.to_csv(\"y_train.csv\", index=False)\n",
    "y_test.to_csv(\"y_test.csv\", index=False)"
   ]
  },
  {
   "cell_type": "code",
   "execution_count": 16,
   "id": "0c847ffb",
   "metadata": {},
   "outputs": [
    {
     "name": "stdout",
     "output_type": "stream",
     "text": [
      "X_train_scaled (first 5 rows):\n",
      "[[ 0.85435834  0.75370758 -0.21477642 -0.48043064 -0.41184087 -0.50912957\n",
      "  -0.54736724 -0.33665016  0.70551956]\n",
      " [ 0.85435834  0.75370758 -0.68236136 -0.48043064 -0.41184087 -0.49535877\n",
      "  -0.54736724 -0.33665016  0.70551956]\n",
      " [ 0.85435834  0.75370758 -0.21477642 -0.48043064 -0.41184087 -0.49615131\n",
      "  -0.54736724  2.97044263 -1.41739515]\n",
      " [ 0.85435834  0.75370758 -1.61753124 -0.48043064  0.6712682  -0.57539142\n",
      "  -0.54736724 -0.33665016  0.70551956]\n",
      " [ 0.85435834 -1.3267745  -0.21477642 -0.48043064 -0.41184087 -0.49564602\n",
      "  -0.54736724  2.97044263 -1.41739515]]\n",
      "\n",
      "\n",
      "X_test_scaled (first 5 rows):\n",
      "[[ 0.85435834 -1.3267745  -0.21477642 -0.48043064 -0.41184087 -0.49615131\n",
      "  -0.54736724  2.97044263 -1.41739515]\n",
      " [-1.49424813 -1.3267745  -0.37063806  0.61116007 -0.41184087  0.32912293\n",
      "   1.82692702 -0.33665016 -1.41739515]\n",
      " [ 0.85435834  0.75370758 -0.21477642 -0.48043064 -0.41184087 -0.49362833\n",
      "  -0.54736724 -0.33665016  0.70551956]\n",
      " [-0.31994489 -1.3267745  -0.76029218 -0.48043064 -0.41184087  0.00567507\n",
      "  -0.54736724 -0.33665016  0.70551956]\n",
      " [-1.49424813  0.75370758 -0.37063806 -0.48043064 -0.41184087 -0.18034678\n",
      "   1.82692702 -0.33665016 -1.41739515]]\n",
      "\n",
      "\n"
     ]
    }
   ],
   "source": [
    "# Scaling Numerical Features (important for models like Logistic Regression)\n",
    "scaler = StandardScaler()\n",
    "X_train_scaled = scaler.fit_transform(X_train)\n",
    "X_test_scaled = scaler.transform(X_test)\n",
    "\n",
    "print(\"X_train_scaled (first 5 rows):\")\n",
    "print(X_train_scaled[:5])\n",
    "print(\"\\n\")\n",
    "print(\"X_test_scaled (first 5 rows):\")\n",
    "print(X_test_scaled[:5])\n",
    "print(\"\\n\")"
   ]
  },
  {
   "cell_type": "markdown",
   "id": "1b7c8bda",
   "metadata": {},
   "source": [
    "Choosing and training the Model\n",
    " - Logistic Regression\n",
    " - Random Forest Classifier"
   ]
  },
  {
   "cell_type": "code",
   "execution_count": 17,
   "id": "21169818",
   "metadata": {},
   "outputs": [
    {
     "name": "stdout",
     "output_type": "stream",
     "text": [
      "Training Logistic Regression Model...\n",
      "Logistic Regression Model Trained.\n",
      "\n"
     ]
    }
   ],
   "source": [
    "#Logistic Regression Model\n",
    "print(\"Training Logistic Regression Model...\")\n",
    "log_reg_model = LogisticRegression(random_state=42, solver='liblinear')\n",
    "log_reg_model.fit(X_train_scaled, y_train)\n",
    "print(\"Logistic Regression Model Trained.\\n\")"
   ]
  },
  {
   "cell_type": "code",
   "execution_count": 18,
   "id": "57aa4d03",
   "metadata": {},
   "outputs": [
    {
     "name": "stdout",
     "output_type": "stream",
     "text": [
      "Training Random Forest Classifier Model...\n"
     ]
    },
    {
     "name": "stdout",
     "output_type": "stream",
     "text": [
      "Random Forest Classifier Model Trained.\n",
      "\n"
     ]
    }
   ],
   "source": [
    "# Random Forest Classifier\n",
    "print(\"Training Random Forest Classifier Model...\")\n",
    "rf_model = RandomForestClassifier(n_estimators=100, random_state=42)\n",
    "# Random Forest is less sensitive to feature scaling, so we can use unscaled X\n",
    "rf_model.fit(X_train, y_train)\n",
    "print(\"Random Forest Classifier Model Trained.\\n\")"
   ]
  },
  {
   "cell_type": "markdown",
   "id": "b296f936",
   "metadata": {},
   "source": [
    "Evaluating the Models"
   ]
  },
  {
   "cell_type": "code",
   "execution_count": 19,
   "id": "dd482c59",
   "metadata": {},
   "outputs": [
    {
     "name": "stdout",
     "output_type": "stream",
     "text": [
      "Logistic Regression Accuracy: 1.0000\n",
      "Logistic Regression Confusion Matrix:\n",
      "[[53  0]\n",
      " [ 0 31]]\n",
      "Logistic Regression Classification Report:\n",
      "              precision    recall  f1-score   support\n",
      "\n",
      "           0       1.00      1.00      1.00        53\n",
      "           1       1.00      1.00      1.00        31\n",
      "\n",
      "    accuracy                           1.00        84\n",
      "   macro avg       1.00      1.00      1.00        84\n",
      "weighted avg       1.00      1.00      1.00        84\n",
      "\n",
      "\n",
      "\n"
     ]
    }
   ],
   "source": [
    "# Evaluate Logistic Regression\n",
    "y_pred_log_reg = log_reg_model.predict(X_test_scaled)\n",
    "accuracy_log_reg = accuracy_score(y_test, y_pred_log_reg)\n",
    "print(f\"Logistic Regression Accuracy: {accuracy_log_reg:.4f}\")\n",
    "print(\"Logistic Regression Confusion Matrix:\")\n",
    "print(confusion_matrix(y_test, y_pred_log_reg))\n",
    "print(\"Logistic Regression Classification Report:\")\n",
    "print(classification_report(y_test, y_pred_log_reg))\n",
    "print(\"\\n\")"
   ]
  },
  {
   "cell_type": "code",
   "execution_count": 20,
   "id": "665e7062",
   "metadata": {},
   "outputs": [
    {
     "name": "stdout",
     "output_type": "stream",
     "text": [
      "Random Forest Accuracy: 1.0000\n",
      "Random Forest Confusion Matrix:\n",
      "[[53  0]\n",
      " [ 0 31]]\n",
      "Random Forest Classification Report:\n",
      "              precision    recall  f1-score   support\n",
      "\n",
      "           0       1.00      1.00      1.00        53\n",
      "           1       1.00      1.00      1.00        31\n",
      "\n",
      "    accuracy                           1.00        84\n",
      "   macro avg       1.00      1.00      1.00        84\n",
      "weighted avg       1.00      1.00      1.00        84\n",
      "\n",
      "\n",
      "\n"
     ]
    }
   ],
   "source": [
    "# Evaluate Random Forest\n",
    "y_pred_rf = rf_model.predict(X_test)\n",
    "accuracy_rf = accuracy_score(y_test, y_pred_rf)\n",
    "print(f\"Random Forest Accuracy: {accuracy_rf:.4f}\")\n",
    "print(\"Random Forest Confusion Matrix:\")\n",
    "print(confusion_matrix(y_test, y_pred_rf))\n",
    "print(\"Random Forest Classification Report:\")\n",
    "print(classification_report(y_test, y_pred_rf))\n",
    "print(\"\\n\")"
   ]
  },
  {
   "cell_type": "markdown",
   "id": "58771a8f",
   "metadata": {},
   "source": [
    "Making predictions using sample data\n",
    "- Using hypothetical new passenger\n",
    "- The passenger data will be procced through the same steps\n",
    "    - Removing irrelevant columns\n",
    "    - Impute missing values if any.\n",
    "    - Encode categorical features using the *fitted* encoders\n",
    "    - Ensuring column order matches training data for X_train -This is crucial (Create a DataFrame with the same columns as X_train, then fill it)\n",
    "    - Prediction using logistic regression and random forest\n",
    "    - Visualizing key relationships"
   ]
  },
  {
   "cell_type": "code",
   "execution_count": 21,
   "id": "46b52f56",
   "metadata": {},
   "outputs": [],
   "source": [
    "# Capturing the data\n",
    "new_passenger_features_raw = pd.DataFrame({\n",
    "    'Pclass': [1],\n",
    "    'Name': ['New, Mrs. Example (Test User)'], # Name added for consistency, but will be dropped\n",
    "    'Sex': ['female'],\n",
    "    'Age': [30],\n",
    "    'SibSp': [0],\n",
    "    'Parch': [0],\n",
    "    'Ticket': ['TEST12345'], # Ticket added for consistency, but will be dropped\n",
    "    'Fare': [50],\n",
    "    'Cabin': [None], # Cabin added for consistency, but will be dropped\n",
    "    'Embarked': ['S']\n",
    "})"
   ]
  },
  {
   "cell_type": "code",
   "execution_count": 22,
   "id": "9d417a9e",
   "metadata": {},
   "outputs": [],
   "source": [
    "# Dropping irrelevant columns\n",
    "new_passenger_processed = new_passenger_features_raw.drop(['PassengerId', 'Name', 'Ticket', 'Cabin'], axis=1, errors='ignore')\n"
   ]
  },
  {
   "cell_type": "code",
   "execution_count": 23,
   "id": "106718bb",
   "metadata": {},
   "outputs": [],
   "source": [
    "#Imputing missing values (if any, using the *fitted* imputers from training data)\n",
    "new_passenger_processed['Age'] = imputer_age.transform(new_passenger_processed[['Age']])\n",
    "new_passenger_processed['Fare'] = imputer_fare.transform(new_passenger_processed[['Fare']])"
   ]
  },
  {
   "cell_type": "code",
   "execution_count": 24,
   "id": "b86a29fc",
   "metadata": {},
   "outputs": [],
   "source": [
    "#Encoding categorical features using the *fitted* encoders\n",
    "new_passenger_processed['Sex'] = le.transform(new_passenger_processed['Sex'])\n",
    "embarked_new = ohe.transform(new_passenger_processed[['Embarked']])\n",
    "embarked_new_df = pd.DataFrame(embarked_new, columns=ohe.get_feature_names_out(['Embarked']))\n",
    "new_passenger_processed = pd.concat([new_passenger_processed.drop('Embarked', axis=1), embarked_new_df], axis=1)"
   ]
  },
  {
   "cell_type": "code",
   "execution_count": 25,
   "id": "e07c3be5",
   "metadata": {},
   "outputs": [],
   "source": [
    "# Ensure column order matches training data for X_train - Fill any columns not present in new_passenger_processed with 0\n",
    "new_passenger_final = pd.DataFrame(columns=X.columns)\n",
    "new_passenger_final = pd.concat([new_passenger_final, new_passenger_processed], ignore_index=True)\n",
    "new_passenger_final = new_passenger_final.fillna(0) \n"
   ]
  },
  {
   "cell_type": "code",
   "execution_count": 26,
   "id": "5cc72bab",
   "metadata": {},
   "outputs": [
    {
     "name": "stdout",
     "output_type": "stream",
     "text": [
      "Logistic Regression predicts survival for new passenger: Survived\n"
     ]
    }
   ],
   "source": [
    "# Prediction with Logistic Regression using scaled data\n",
    "new_passenger_scaled = scaler.transform(new_passenger_final)\n",
    "log_reg_prediction = log_reg_model.predict(new_passenger_scaled)\n",
    "print(f\"Logistic Regression predicts survival for new passenger: {'Survived' if log_reg_prediction[0] == 1 else 'Not Survived'}\")"
   ]
  },
  {
   "cell_type": "code",
   "execution_count": 27,
   "id": "861d2bd6",
   "metadata": {},
   "outputs": [
    {
     "name": "stdout",
     "output_type": "stream",
     "text": [
      "Random Forest predicts survival for new passenger: Survived\n"
     ]
    }
   ],
   "source": [
    "# Prediction with Random Forest using unscaled data\n",
    "rf_prediction = rf_model.predict(new_passenger_final)\n",
    "print(f\"Random Forest predicts survival for new passenger: {'Survived' if rf_prediction[0] == 1 else 'Not Survived'}\")"
   ]
  },
  {
   "cell_type": "markdown",
   "id": "67c791ab",
   "metadata": {},
   "source": [
    "Testing the Model on Multiple Hypothetical Data"
   ]
  },
  {
   "cell_type": "code",
   "execution_count": 28,
   "id": "bcc3b143",
   "metadata": {},
   "outputs": [],
   "source": [
    "\n",
    "#Capture multiple passengers' data\n",
    "new_passengers_features_raw = pd.DataFrame({\n",
    "    'Pclass': [1, 2, 3],\n",
    "    'Name': [\n",
    "        'New, Mrs. Example (Test User 1)',\n",
    "        'New, Mr. Sample (Test User 2)',\n",
    "        'New, Miss Demo (Test User 3)'\n",
    "    ],\n",
    "    'Sex': ['female', 'male', 'female'],\n",
    "    'Age': [30, None, 22],        # Example: missing Age for passenger 2\n",
    "    'SibSp': [0, 1, 0],\n",
    "    'Parch': [0, 0, 1],\n",
    "    'Ticket': ['TEST12345', 'TEST12346', 'TEST12347'],\n",
    "    'Fare': [50, None, 15],       # Example: missing Fare for passenger 2\n",
    "    'Cabin': [None, None, None],\n",
    "    'Embarked': ['S', 'C', 'Q']\n",
    "})"
   ]
  },
  {
   "cell_type": "code",
   "execution_count": 29,
   "id": "dffb9e82",
   "metadata": {},
   "outputs": [],
   "source": [
    "#Drop irrelevant columns\n",
    "new_passengers_processed = new_passengers_features_raw.drop(\n",
    "    ['PassengerId', 'Name', 'Ticket', 'Cabin'],\n",
    "    axis=1,\n",
    "    errors='ignore'\n",
    ")"
   ]
  },
  {
   "cell_type": "code",
   "execution_count": 30,
   "id": "cccf1ebc",
   "metadata": {},
   "outputs": [],
   "source": [
    "#Impute missing values using fitted imputers\n",
    "new_passengers_processed['Age'] = pd.Series(\n",
    "    imputer_age.transform(new_passengers_processed[['Age']]).flatten(),\n",
    "    index=new_passengers_processed.index\n",
    ")\n",
    "new_passengers_processed['Fare'] = pd.Series(\n",
    "    imputer_fare.transform(new_passengers_processed[['Fare']]).flatten(),\n",
    "    index=new_passengers_processed.index\n",
    ")"
   ]
  },
  {
   "cell_type": "code",
   "execution_count": 31,
   "id": "421b4678",
   "metadata": {},
   "outputs": [],
   "source": [
    "#Encode categorical features\n",
    "#Label encode 'Sex'\n",
    "new_passengers_processed['Sex'] = le.transform(new_passengers_processed['Sex'])\n",
    " \n",
    "#One-hot encode 'Embarked'\n",
    "embarked_new = ohe.transform(new_passengers_processed[['Embarked']])\n",
    "embarked_new_df = pd.DataFrame(\n",
    "    embarked_new, \n",
    "    columns=ohe.get_feature_names_out(['Embarked']),\n",
    "    index=new_passengers_processed.index\n",
    ")\n",
    "new_passengers_processed = pd.concat(\n",
    "    [new_passengers_processed.drop('Embarked', axis=1), embarked_new_df],\n",
    "    axis=1\n",
    ")"
   ]
  },
  {
   "cell_type": "code",
   "execution_count": 32,
   "id": "a68595a5",
   "metadata": {},
   "outputs": [
    {
     "name": "stdout",
     "output_type": "stream",
     "text": [
      "   Pclass  Sex   Age  SibSp  Parch  Fare  Embarked_C  Embarked_Q  Embarked_S\n",
      "0       1    0  30.0      0      0  50.0         0.0         0.0         1.0\n"
     ]
    }
   ],
   "source": [
    "#Align columns with training data\n",
    "new_passengers_final = pd.DataFrame(columns=X.columns)\n",
    "new_passengers_final = pd.concat([new_passengers_final, new_passenger_processed], ignore_index=True)\n",
    "new_passengers_final = new_passenger_final.fillna(0)\n",
    " \n",
    "print(new_passengers_final)"
   ]
  },
  {
   "cell_type": "code",
   "execution_count": 33,
   "id": "1216ac0f",
   "metadata": {},
   "outputs": [
    {
     "name": "stdout",
     "output_type": "stream",
     "text": [
      "Logistic Regression Predictions\n",
      "  Predicted_Survival_LR  Survival_Probability_LR\n",
      "0              Survived                     0.99\n",
      "\n",
      "\n"
     ]
    }
   ],
   "source": [
    "print(\"Logistic Regression Predictions\")\n",
    "new_passengers_scaled = scaler.transform(new_passengers_final)\n",
    "log_reg_predictions = log_reg_model.predict(new_passengers_scaled)\n",
    "log_reg_probabilities = log_reg_model.predict_proba(new_passengers_scaled)[:, 1] # Probability of survival\n",
    "\n",
    "# Create results_lr using the *index* of new_passengers_final\n",
    "results_lr = pd.DataFrame({\n",
    "    'Predicted_Survival_LR': ['Survived' if p == 1 else 'Not Survived' for p in log_reg_predictions],\n",
    "    'Survival_Probability_LR': log_reg_probabilities.round(2)\n",
    "}, index=new_passengers_final.index) # Use the index of the processed features for results_lr\n",
    "\n",
    "print(results_lr)\n",
    "print(\"\\n\")"
   ]
  },
  {
   "cell_type": "code",
   "execution_count": 34,
   "id": "685e0ef5",
   "metadata": {},
   "outputs": [
    {
     "name": "stdout",
     "output_type": "stream",
     "text": [
      "Random Forest Predictions \n",
      "  Predicted_Survival_RF  Survival_Probability_RF\n",
      "0              Survived                     0.96\n",
      "\n",
      "\n"
     ]
    }
   ],
   "source": [
    "print(\"Random Forest Predictions \")\n",
    "rf_predictions = rf_model.predict(new_passengers_final)\n",
    "rf_probabilities = rf_model.predict_proba(new_passengers_final)[:, 1]\n",
    "\n",
    "# Create results_rf using the *index* of new_passengers_final\n",
    "results_rf = pd.DataFrame({\n",
    "    'Predicted_Survival_RF': ['Survived' if p == 1 else 'Not Survived' for p in rf_predictions],\n",
    "    'Survival_Probability_RF': rf_probabilities.round(4)\n",
    "}, index=new_passengers_final.index) # Use the index of the processed features for results_rf\n",
    "\n",
    "print(results_rf)\n",
    "print(\"\\n\")"
   ]
  },
  {
   "cell_type": "code",
   "execution_count": 35,
   "id": "0643a2a3",
   "metadata": {},
   "outputs": [
    {
     "name": "stdout",
     "output_type": "stream",
     "text": [
      "Combined Predictions (merged on index)\n",
      "  Predicted_Survival_LR  Survival_Probability_LR Predicted_Survival_RF  \\\n",
      "0              Survived                     0.99              Survived   \n",
      "\n",
      "   Survival_Probability_RF  \n",
      "0                     0.96  \n",
      "\n",
      "\n"
     ]
    }
   ],
   "source": [
    "#combined models\n",
    "combined_results = pd.merge(results_lr, results_rf, left_index=True, right_index=True)\n",
    "print(\"Combined Predictions (merged on index)\")\n",
    "print(combined_results)\n",
    "print(\"\\n\")"
   ]
  },
  {
   "cell_type": "markdown",
   "id": "e1720ffc",
   "metadata": {},
   "source": [
    "Visualizing the Prediction"
   ]
  },
  {
   "cell_type": "code",
   "execution_count": 36,
   "id": "bae818ee",
   "metadata": {},
   "outputs": [
    {
     "name": "stdout",
     "output_type": "stream",
     "text": [
      "\n",
      " Visualizing Key Relationships - By Sex\n"
     ]
    },
    {
     "data": {
      "image/png": "[encoded data removed]",
      "text/plain": [
       "<Figure size 600x400 with 1 Axes>"
      ]
     },
     "metadata": {},
     "output_type": "display_data"
    }
   ],
   "source": [
    "# Visualizing Key Relationships - Survival rate by Sex - Visually shows the higher survival rate for females.\n",
    "print(\"\\n Visualizing Key Relationships - By Sex\")\n",
    "plt.figure(figsize=(6, 4))\n",
    "sns.barplot(x='Sex', y='Survived', data=df_processed.replace({'Sex': {0: 'Female', 1: 'Male'}}))\n",
    "plt.title('Survival Rate by Sex')\n",
    "plt.ylabel('Survival Rate')\n",
    "plt.show()"
   ]
  },
  {
   "cell_type": "code",
   "execution_count": 37,
   "id": "3f21c177",
   "metadata": {},
   "outputs": [
    {
     "name": "stdout",
     "output_type": "stream",
     "text": [
      "\n",
      " Visualizing Key Relationships - By PClass\n"
     ]
    },
    {
     "data": {
      "image/png": "[encoded data removed]",
      "text/plain": [
       "<Figure size 600x400 with 1 Axes>"
      ]
     },
     "metadata": {},
     "output_type": "display_data"
    }
   ],
   "source": [
    "# Survival rate by Pclass - illustrates how survival rates vary across different passenger classes.\n",
    "print(\"\\n Visualizing Key Relationships - By PClass\")\n",
    "plt.figure(figsize=(6, 4))\n",
    "sns.barplot(x='Pclass', y='Survived', data=df_processed)\n",
    "plt.title('Survival Rate by Pclass')\n",
    "plt.ylabel('Survival Rate')\n",
    "plt.show()"
   ]
  },
  {
   "cell_type": "code",
   "execution_count": 38,
   "id": "996214f5",
   "metadata": {},
   "outputs": [
    {
     "data": {
      "image/png": "[encoded data removed]",
      "text/plain": [
       "<Figure size 1000x600 with 1 Axes>"
      ]
     },
     "metadata": {},
     "output_type": "display_data"
    }
   ],
   "source": [
    "# Distribution of Age and its relation to Survival - The histogram compares the age distribution of survivors vs. non-survivors.\n",
    "plt.figure(figsize=(10, 6))\n",
    "sns.histplot(df_processed[df_processed['Survived'] == 0]['Age'], color='red', label='Not Survived', kde=True)\n",
    "sns.histplot(df_processed[df_processed['Survived'] == 1]['Age'], color='green', label='Survived', kde=True)\n",
    "plt.title('Age Distribution by Survival')\n",
    "plt.xlabel('Age')\n",
    "plt.ylabel('Number of Passengers')\n",
    "plt.legend()\n",
    "plt.show()"
   ]
  },
  {
   "cell_type": "code",
   "execution_count": 39,
   "id": "7b8eb4b7",
   "metadata": {},
   "outputs": [
    {
     "data": {
      "image/png": "[encoded data removed]",
      "text/plain": [
       "<Figure size 1000x600 with 1 Axes>"
      ]
     },
     "metadata": {},
     "output_type": "display_data"
    }
   ],
   "source": [
    "importances = rf_model.feature_importances_\n",
    "feature_names = X.columns\n",
    "forest_importances = pd.Series(importances, index=feature_names).sort_values(ascending=False)\n",
    "\n",
    "plt.figure(figsize=(10, 6))\n",
    "sns.barplot(x=forest_importances.values, y=forest_importances.index)\n",
    "plt.title('Random Forest Feature Importances')\n",
    "plt.xlabel('Importance')\n",
    "plt.ylabel('Feature')\n",
    "plt.show()"
   ]
  }
 ],
 "metadata": {
  "kernelspec": {
   "display_name": "my_Virtual_Environment",
   "language": "python",
   "name": "python3"
  },
  "language_info": {
   "codemirror_mode": {
    "name": "ipython",
    "version": 3
   },
   "file_extension": ".py",
   "mimetype": "text/x-python",
   "name": "python",
   "nbconvert_exporter": "python",
   "pygments_lexer": "ipython3",
   "version": "3.13.5"
  }
 },
 "nbformat": 4,
 "nbformat_minor": 5
}
