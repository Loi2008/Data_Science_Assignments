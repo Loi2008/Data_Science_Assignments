{
 "cells": [
  {
   "cell_type": "markdown",
   "id": "e4060786",
   "metadata": {},
   "source": [
    "Using Class in Python\n",
    "- A class in Python is a blueprint for creating objects.\n",
    "- It defines:\n",
    "    - The attributes (data/variables)\n",
    "    - Methods (functions) \n",
    "- They describe the behavior of the objects.\n",
    "- Class is synonimous to a \"template\" and an object an \"instance\" of that template."
   ]
  },
  {
   "cell_type": "code",
   "execution_count": 1,
   "id": "031f8c4a",
   "metadata": {},
   "outputs": [],
   "source": [
    "# Car class with attributes brand and year, and a method display() that returns a formatted string with the details.\n",
    "#Defining the class Car\n",
    "class Car:\n",
    "    def __init__(self, brand, year):\n",
    "        self.brand = brand\n",
    "        self.year = year\n",
    "\n",
    "    def display(self):\n",
    "        return f\"Car Brand: {self.brand}, Year: {self.year}\""
   ]
  },
  {
   "cell_type": "code",
   "execution_count": 2,
   "id": "272660cd",
   "metadata": {},
   "outputs": [
    {
     "data": {
      "text/plain": [
       "'Car Brand: Toyota, Year: 2022'"
      ]
     },
     "execution_count": 2,
     "metadata": {},
     "output_type": "execute_result"
    }
   ],
   "source": [
    "#Application\n",
    "my_car = Car(\"Toyota\", 2022)\n",
    "my_car.display()"
   ]
  },
  {
   "cell_type": "code",
   "execution_count": 3,
   "id": "921d98f0",
   "metadata": {},
   "outputs": [],
   "source": [
    "# Class Employee with atrributes- name and salary. Create a subclass Manager with an extra department attribute and  method to display full details.\n",
    "# defining the class Employee\n",
    "class Employee:\n",
    "    def __init__(self, name, salary):\n",
    "        self.name = name\n",
    "        self.salary = salary\n",
    "\n",
    "    def display(self):\n",
    "        return f\"Employee Name: {self.name}, Salary: ${self.salary}\"\n"
   ]
  },
  {
   "cell_type": "code",
   "execution_count": 4,
   "id": "9f466ce1",
   "metadata": {},
   "outputs": [
    {
     "data": {
      "text/plain": [
       "'Employee Name: Alice, Salary: $50000'"
      ]
     },
     "execution_count": 4,
     "metadata": {},
     "output_type": "execute_result"
    }
   ],
   "source": [
    "# Create an Employee by calling the class Employee\n",
    "emp = Employee(\"Alice\", 50000)\n",
    "emp.display()\n"
   ]
  },
  {
   "cell_type": "code",
   "execution_count": 5,
   "id": "cc8d7bae",
   "metadata": {},
   "outputs": [],
   "source": [
    "# Manager inherits from Employee\n",
    "class Manager(Employee):  \n",
    "    def __init__(self,name, salary, department):\n",
    "        \n",
    "        # call the parent constructor\n",
    "        super().__init__(name, salary)  \n",
    "        self.department = department\n",
    "\n",
    "    def display(self):\n",
    "        return f\"Manager Name: {self.name}, Salary: ${self.salary}, Department: {self.department}\""
   ]
  },
  {
   "cell_type": "code",
   "execution_count": 6,
   "id": "f9d08efb",
   "metadata": {},
   "outputs": [
    {
     "data": {
      "text/plain": [
       "'Manager Name: Bob, Salary: $80000, Department: IT'"
      ]
     },
     "execution_count": 6,
     "metadata": {},
     "output_type": "execute_result"
    }
   ],
   "source": [
    "# Create a Manager by calling the subclass Manager\n",
    "mgr = Manager(\"Bob\", 80000, \"IT\")\n",
    "mgr.display()"
   ]
  }
 ],
 "metadata": {
  "kernelspec": {
   "display_name": "my_Virtual_Environment",
   "language": "python",
   "name": "python3"
  },
  "language_info": {
   "codemirror_mode": {
    "name": "ipython",
    "version": 3
   },
   "file_extension": ".py",
   "mimetype": "text/x-python",
   "name": "python",
   "nbconvert_exporter": "python",
   "pygments_lexer": "ipython3",
   "version": "3.13.5"
  }
 },
 "nbformat": 4,
 "nbformat_minor": 5
}
