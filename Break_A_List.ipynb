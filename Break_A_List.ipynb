{
 "cells": [
  {
   "cell_type": "markdown",
   "id": "105d97a3",
   "metadata": {},
   "source": [
    "Breaking a list of Fruits when you reach the 3rd fruit using:\n",
    "- simple list\n",
    "- using function"
   ]
  },
  {
   "cell_type": "code",
   "execution_count": 1,
   "id": "3b346ec0",
   "metadata": {},
   "outputs": [
    {
     "data": {
      "text/plain": [
       "['Processing fruit: apple',\n",
       " 'Processing fruit: banana',\n",
       " 'Processing fruit: cherry',\n",
       " 'Reached the 3rd fruit. Stop.',\n",
       " 'end of Loop.']"
      ]
     },
     "execution_count": 1,
     "metadata": {},
     "output_type": "execute_result"
    }
   ],
   "source": [
    "# Creating a list and storing results \n",
    "fruits = [\"apple\", \"banana\", \"cherry\", \"date\", \"elderberry\", \"fig\"]\n",
    "results = []   # store messages here\n",
    "count = 0\n",
    "\n",
    "for fruit in fruits:\n",
    "    results.append(f\"Processing fruit: {fruit}\")\n",
    "    count += 1\n",
    "    if count == 3:\n",
    "        results.append(\"Reached the 3rd fruit. Stop.\")\n",
    "        break  # exit the loop\n",
    "\n",
    "results.append(\"end of Loop.\")\n",
    "\n",
    "results   # Jupyter will display this list"
   ]
  },
  {
   "cell_type": "code",
   "execution_count": 2,
   "id": "47a3a9f6",
   "metadata": {},
   "outputs": [],
   "source": [
    "#Using fucntion\n",
    "#Define the function\n",
    "def process_fruits(fruits, stop_at=3):\n",
    "    results = []\n",
    "    count = 0\n",
    "\n",
    "    for fruit in fruits:\n",
    "        results.append(f\"Processing fruit: {fruit}\")\n",
    "        count += 1\n",
    "        if count == stop_at:\n",
    "            results.append(f\"Reached the {stop_at}th fruit. Stop.\")\n",
    "            break\n",
    "    results.append(\"Loop ending.\")\n",
    "    \n",
    "    return results"
   ]
  },
  {
   "cell_type": "code",
   "execution_count": 3,
   "id": "44f6d02d",
   "metadata": {},
   "outputs": [
    {
     "data": {
      "text/plain": [
       "['Processing fruit: apple',\n",
       " 'Processing fruit: banana',\n",
       " 'Processing fruit: cherry',\n",
       " 'Reached the 3th fruit. Stop.',\n",
       " 'Loop ending.']"
      ]
     },
     "execution_count": 3,
     "metadata": {},
     "output_type": "execute_result"
    }
   ],
   "source": [
    "#Calling the function\n",
    "fruits = [\"apple\", \"banana\", \"cherry\", \"date\", \"elderberry\", \"fig\"]\n",
    "\n",
    "process_fruits(fruits, stop_at=3)"
   ]
  }
 ],
 "metadata": {
  "kernelspec": {
   "display_name": "my_Virtual_Environment",
   "language": "python",
   "name": "python3"
  },
  "language_info": {
   "codemirror_mode": {
    "name": "ipython",
    "version": 3
   },
   "file_extension": ".py",
   "mimetype": "text/x-python",
   "name": "python",
   "nbconvert_exporter": "python",
   "pygments_lexer": "ipython3",
   "version": "3.13.5"
  }
 },
 "nbformat": 4,
 "nbformat_minor": 5
}
