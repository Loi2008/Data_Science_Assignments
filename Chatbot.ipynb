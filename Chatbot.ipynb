{
 "cells": [
  {
   "cell_type": "markdown",
   "id": "26d04c12",
   "metadata": {},
   "source": [
    "Chatbot that answers questions about Data Science and AI\n",
    "- This chatbot is a basic question-answering system for Data Science and AI.\n",
    "- It is built using Python’s simple control flow (if/else) statements for keyword-based responses.\n",
    "    - Each if or elif checks whether a keyword (like \"data science\", \"ai\", \"python\") is in the user’s input.\n",
    "    - If a match is found, the chatbot prints the corresponding response.\n",
    "    - If none match, the else clause gives a default reply.\n",
    "\n",
    "- The chatbot works by scanning the input for certain keywords and then branching into the correct response path."
   ]
  },
  {
   "cell_type": "code",
   "execution_count": 2,
   "id": "cc1d6583",
   "metadata": {},
   "outputs": [
    {
     "name": "stdout",
     "output_type": "stream",
     "text": [
      "🧠 Hello! I'm a Data Science and AI Chatbot. Ask me anything!\n",
      "🧠 Type 'quit' to exit.\n",
      "🧠 Chatbot will terminate if no input is given for 1 minute.\n",
      "🧠 Chatbot: Data science is an interdisciplinary field that uses scientific methods, processes, algorithms, and systems to extract knowledge and insights from data.\n",
      "\n",
      "🧠 Chatbot: No input received for 1 minute. Terminating...\n"
     ]
    }
   ],
   "source": [
    "import threading\n",
    "\n",
    "def timed_input(prompt, timeout=60):\n",
    "    result = [None]\n",
    "\n",
    "    def get_input():\n",
    "        result[0] = input(prompt)\n",
    "\n",
    "    thread = threading.Thread(target=get_input)\n",
    "    thread.start()\n",
    "    thread.join(timeout)\n",
    "    if thread.is_alive():\n",
    "        print(f\"\\n 🧠 No input received in {timeout} seconds.\")\n",
    "        return None\n",
    "    return result[0]\n",
    "\n",
    "def chatbot():\n",
    "    print(\"🧠 Hello! I'm a Data Science and AI Chatbot. Ask me anything!\")\n",
    "    print(\"🧠 Type 'quit' to exit.\")\n",
    "    print(\"🧠 Chatbot will terminate if no input is given for 1 minute.\")\n",
    "\n",
    "    message_count = 0\n",
    "\n",
    "    while True:\n",
    "        message_count += 1\n",
    "        user_input = timed_input(f\"You ({message_count}): \", timeout=60)\n",
    "\n",
    "        if not user_input:  # Timeout\n",
    "            print(\"\\n🧠 Chatbot: No input received for 1 minute. Terminating...\")\n",
    "            break\n",
    "\n",
    "        user_input = user_input.lower()\n",
    "\n",
    "        if user_input == \"quit\":\n",
    "            print(\" 🧠 Chatbot: Goodbye! Hope to see you again.\")\n",
    "            break\n",
    "\n",
    "        # Keyword-based responses\n",
    "        if \"data science\" in user_input:\n",
    "            print(\"🧠 Chatbot: Data science is an interdisciplinary field that uses scientific methods, processes, algorithms, and systems to extract knowledge and insights from data.\")\n",
    "        elif \"artificial intelligence\" in user_input or \"ai\" in user_input:\n",
    "            print(\"🧠 Chatbot: Artificial intelligence (AI) is about building smart machines capable of performing tasks that typically require human intelligence.\")\n",
    "        elif \"machine learning\" in user_input:\n",
    "            print(\"🧠 Chatbot: Machine learning is a subset of AI that enables systems to learn from data, identify patterns, and make decisions with minimal human intervention.\")\n",
    "        elif \"deep learning\" in user_input:\n",
    "            print(\"🧠 Chatbot: Deep learning uses neural networks with many layers (deep neural networks) to learn complex patterns in data.\")\n",
    "        elif \"model\" in user_input:\n",
    "            print(\"🧠 Chatbot: In data science and AI, a model is a mathematical representation of a real-world process used for predictions or classifications.\")\n",
    "        elif \"programming language\" in user_input or \"language for ai\" in user_input or \"python\" in user_input:\n",
    "            print(\"🧠 Chatbot: Python is very popular for AI and data science due to libraries like TensorFlow, PyTorch, Scikit-learn, and Pandas.\")\n",
    "        elif \"big data\" in user_input:\n",
    "            print(\"🧠 Chatbot: Big Data refers to extremely large data sets that can be analyzed to reveal patterns, trends, and associations.\")\n",
    "        elif \"neural network\" in user_input:\n",
    "            print(\"🧠 Chatbot: A neural network is a set of algorithms modeled after the human brain that recognizes patterns in data.\")\n",
    "        else:\n",
    "            print(\"🧠 Chatbot: I'm not sure I understand. Can you rephrase or ask about data science/AI topics?\")\n",
    "\n",
    "# Run it\n",
    "chatbot()"
   ]
  }
 ],
 "metadata": {
  "kernelspec": {
   "display_name": "my_Virtual_Environment",
   "language": "python",
   "name": "python3"
  },
  "language_info": {
   "codemirror_mode": {
    "name": "ipython",
    "version": 3
   },
   "file_extension": ".py",
   "mimetype": "text/x-python",
   "name": "python",
   "nbconvert_exporter": "python",
   "pygments_lexer": "ipython3",
   "version": "3.13.5"
  }
 },
 "nbformat": 4,
 "nbformat_minor": 5
}
