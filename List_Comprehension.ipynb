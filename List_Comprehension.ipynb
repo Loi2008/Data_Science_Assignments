{
 "cells": [
  {
   "cell_type": "markdown",
   "id": "a7f9ddea",
   "metadata": {},
   "source": [
    "List Comprehension\n",
    "- A list comprehension is a concise way to create lists in Python.\n",
    "- Instead of using a loop, you can generate lists in one line.\n",
    "- Syntax contains 3 parameters:\n",
    "    - Expression → what to do with each item\n",
    "    - Iterable → the collection you’re looping over\n",
    "    - Condition (optional) → filter items"
   ]
  },
  {
   "cell_type": "code",
   "execution_count": 1,
   "id": "f6d9154b",
   "metadata": {},
   "outputs": [],
   "source": [
    "#Defining the function\n",
    "def first_n_primes(n):\n",
    "    # prime_nums - hold the list of prime numbers\n",
    "    prime_nums = []\n",
    "    # num is the current number being checked - starting from 2 (the first prime).\n",
    "    num = 2  \n",
    "    #Using while loop to check the number\n",
    "    while len(prime_nums) < n:\n",
    "        # using list comprehension to check if num is a prime number\n",
    "        if all(num % i != 0 for i in range(2, int(num**0.5) + 1)):\n",
    "            prime_nums.append(num)\n",
    "        #increament the number\n",
    "        num += 1\n",
    "    return prime_nums\n"
   ]
  },
  {
   "cell_type": "code",
   "execution_count": 2,
   "id": "31014d55",
   "metadata": {},
   "outputs": [
    {
     "data": {
      "text/plain": [
       "'The first 50 prime numbers are: [2, 3, 5, 7, 11, 13, 17, 19, 23, 29, 31, 37, 41, 43, 47, 53, 59, 61, 67, 71, 73, 79, 83, 89, 97, 101, 103, 107, 109, 113, 127, 131, 137, 139, 149, 151, 157, 163, 167, 173, 179, 181, 191, 193, 197, 199, 211, 223, 227, 229]'"
      ]
     },
     "execution_count": 2,
     "metadata": {},
     "output_type": "execute_result"
    }
   ],
   "source": [
    "#Application of the prime number generation function\n",
    "N = 50\n",
    "prime_numbers = first_n_primes(N)\n",
    "prime_numbers \n",
    "f\"The first {N} prime numbers are: {prime_numbers}\""
   ]
  }
 ],
 "metadata": {
  "kernelspec": {
   "display_name": "my_Virtual_Environment",
   "language": "python",
   "name": "python3"
  },
  "language_info": {
   "codemirror_mode": {
    "name": "ipython",
    "version": 3
   },
   "file_extension": ".py",
   "mimetype": "text/x-python",
   "name": "python",
   "nbconvert_exporter": "python",
   "pygments_lexer": "ipython3",
   "version": "3.13.5"
  }
 },
 "nbformat": 4,
 "nbformat_minor": 5
}
