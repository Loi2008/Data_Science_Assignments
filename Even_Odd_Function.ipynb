{
 "cells": [
  {
   "cell_type": "markdown",
   "id": "010dbee2",
   "metadata": {},
   "source": [
    "Function for checking whether a number is even or odd"
   ]
  },
  {
   "cell_type": "code",
   "execution_count": 1,
   "id": "d74304e1",
   "metadata": {},
   "outputs": [],
   "source": [
    "# Using a normal function\n",
    "# defining the function\n",
    "def check_even_odd_list(numbers):\n",
    "    results = []\n",
    "    for n in numbers:\n",
    "        if n % 2 == 0:\n",
    "            results.append(f\"{n} is Even\")\n",
    "        else:\n",
    "            results.append(f\"{n} is Odd\")\n",
    "    return results"
   ]
  },
  {
   "cell_type": "code",
   "execution_count": 2,
   "id": "d639f6c0",
   "metadata": {},
   "outputs": [
    {
     "data": {
      "text/plain": [
       "['1 is Odd',\n",
       " '2 is Even',\n",
       " '3 is Odd',\n",
       " '10 is Even',\n",
       " '15 is Odd',\n",
       " '20 is Even',\n",
       " '25 is Odd',\n",
       " '27 is Odd',\n",
       " '35 is Odd',\n",
       " '39 is Odd',\n",
       " '50 is Even']"
      ]
     },
     "execution_count": 2,
     "metadata": {},
     "output_type": "execute_result"
    }
   ],
   "source": [
    "# Call the function\n",
    "nums = [1, 2, 3, 10, 15,20,25,27,35,39,50]\n",
    "check_even_odd_list(nums)"
   ]
  },
  {
   "cell_type": "code",
   "execution_count": 3,
   "id": "6833c940",
   "metadata": {},
   "outputs": [],
   "source": [
    "# Using lambda\n",
    "check_even_odd_list_lambda = lambda numbers: [f\"{n} is Even\" if n % 2 == 0 else f\"{n} is Odd\" for n in numbers]"
   ]
  },
  {
   "cell_type": "code",
   "execution_count": 4,
   "id": "3da8beae",
   "metadata": {},
   "outputs": [
    {
     "data": {
      "text/plain": [
       "['4 is Even',\n",
       " '7 is Odd',\n",
       " '12 is Even',\n",
       " '15 is Odd',\n",
       " '28 is Even',\n",
       " '23 is Odd',\n",
       " '25 is Odd']"
      ]
     },
     "execution_count": 4,
     "metadata": {},
     "output_type": "execute_result"
    }
   ],
   "source": [
    "#Calling the function\n",
    "check_even_odd_list_lambda([4, 7, 12, 15,28,23,25])"
   ]
  },
  {
   "cell_type": "code",
   "execution_count": 5,
   "id": "3eb5f7f9",
   "metadata": {},
   "outputs": [
    {
     "data": {
      "text/html": [
       "<div>\n",
       "<style scoped>\n",
       "    .dataframe tbody tr th:only-of-type {\n",
       "        vertical-align: middle;\n",
       "    }\n",
       "\n",
       "    .dataframe tbody tr th {\n",
       "        vertical-align: top;\n",
       "    }\n",
       "\n",
       "    .dataframe thead th {\n",
       "        text-align: right;\n",
       "    }\n",
       "</style>\n",
       "<table border=\"1\" class=\"dataframe\">\n",
       "  <thead>\n",
       "    <tr style=\"text-align: right;\">\n",
       "      <th></th>\n",
       "      <th>Number</th>\n",
       "      <th>Result</th>\n",
       "    </tr>\n",
       "  </thead>\n",
       "  <tbody>\n",
       "    <tr>\n",
       "      <th>0</th>\n",
       "      <td>1</td>\n",
       "      <td>1 is Odd</td>\n",
       "    </tr>\n",
       "    <tr>\n",
       "      <th>1</th>\n",
       "      <td>2</td>\n",
       "      <td>2 is Even</td>\n",
       "    </tr>\n",
       "    <tr>\n",
       "      <th>2</th>\n",
       "      <td>3</td>\n",
       "      <td>3 is Odd</td>\n",
       "    </tr>\n",
       "    <tr>\n",
       "      <th>3</th>\n",
       "      <td>10</td>\n",
       "      <td>10 is Even</td>\n",
       "    </tr>\n",
       "    <tr>\n",
       "      <th>4</th>\n",
       "      <td>15</td>\n",
       "      <td>15 is Odd</td>\n",
       "    </tr>\n",
       "    <tr>\n",
       "      <th>5</th>\n",
       "      <td>20</td>\n",
       "      <td>20 is Even</td>\n",
       "    </tr>\n",
       "    <tr>\n",
       "      <th>6</th>\n",
       "      <td>25</td>\n",
       "      <td>25 is Odd</td>\n",
       "    </tr>\n",
       "    <tr>\n",
       "      <th>7</th>\n",
       "      <td>28</td>\n",
       "      <td>28 is Even</td>\n",
       "    </tr>\n",
       "  </tbody>\n",
       "</table>\n",
       "</div>"
      ],
      "text/plain": [
       "   Number      Result\n",
       "0       1    1 is Odd\n",
       "1       2   2 is Even\n",
       "2       3    3 is Odd\n",
       "3      10  10 is Even\n",
       "4      15   15 is Odd\n",
       "5      20  20 is Even\n",
       "6      25   25 is Odd\n",
       "7      28  28 is Even"
      ]
     },
     "execution_count": 5,
     "metadata": {},
     "output_type": "execute_result"
    }
   ],
   "source": [
    "#Using Pandas\n",
    "import pandas as pd\n",
    "\n",
    "nums = [1, 2, 3, 10, 15,20,25,28]\n",
    "pd.DataFrame({\"Number\": nums, \"Result\": check_even_odd_list_lambda(nums)})"
   ]
  }
 ],
 "metadata": {
  "kernelspec": {
   "display_name": "my_Virtual_Environment",
   "language": "python",
   "name": "python3"
  },
  "language_info": {
   "codemirror_mode": {
    "name": "ipython",
    "version": 3
   },
   "file_extension": ".py",
   "mimetype": "text/x-python",
   "name": "python",
   "nbconvert_exporter": "python",
   "pygments_lexer": "ipython3",
   "version": "3.13.5"
  }
 },
 "nbformat": 4,
 "nbformat_minor": 5
}
